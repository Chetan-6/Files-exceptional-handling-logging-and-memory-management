{
  "nbformat": 4,
  "nbformat_minor": 0,
  "metadata": {
    "colab": {
      "provenance": []
    },
    "kernelspec": {
      "name": "python3",
      "display_name": "Python 3"
    },
    "language_info": {
      "name": "python"
    }
  },
  "cells": [
    {
      "cell_type": "markdown",
      "source": [
        "Q1.What is the difference between interpreted and compiled languages ?\n",
        "\n",
        "    - The main difference between interpreted and compiled languages lies in how the code you write (source code) is translated into machine code (code that the computer can understand and execute).\n",
        "\n",
        "    Compiled Languages\n",
        "\n",
        "    - A compiler translates the entire source code into machine code (binary/executable) before the program runs.\n",
        "    - You get a standalone executable file.\n",
        "    - Faster execution, since translation is done before running.\n",
        "    - Error checking happens at compile time.\n",
        "\n",
        "\n",
        "    Examples:\n",
        "\n",
        "    - C\n",
        "    - C++\n",
        "    - Rust\n",
        "    - Go\n",
        "    \n",
        "    Process:\n",
        "\n",
        "    - Source Code (C) → Compiler → Machine Code (Executable) → Run\n",
        "\n",
        "    Interpreted Languages\n",
        "\n",
        "    - An interpreter reads and executes the code line-by-line at runtime.\n",
        "    - No separate executable is created.\n",
        "    - Slower execution, but easier to test and debug.\n",
        "    - Useful for scripting and rapid development.\n",
        "\n",
        "    Examples:\n",
        "    - Python\n",
        "    - JavaScript\n",
        "    - PHP\n",
        "    - Ruby\n",
        "    \n",
        "    Process:\n",
        "\n",
        "    - Source Code (Python) → Interpreter → Execution\n",
        "\n",
        "    Hybrid (Compiled + Interpreted)\n",
        "      - Example: Java\n",
        "        - Java code is compiled to bytecode (not machine code).\n",
        "        - Then the Java Virtual Machine (JVM) interprets or compiles this bytecode at runtime (JIT – Just-In-Time Compilation).\n",
        "        \n",
        "\n",
        "\n"
      ],
      "metadata": {
        "id": "t1Y-6ztI4HQH"
      }
    },
    {
      "cell_type": "markdown",
      "source": [
        "Q2. What is exception handling in Python ?\n",
        "\n",
        "    - Exception handling in Python is a way to handle errors or unexpected situations that occur while a program is running. Instead of letting the program crash when an error occurs, Python allows you to catch and manage exceptions using specific keywords.\n",
        "\n",
        "    Why use exception handling?\n",
        "      - To prevent program crashes\n",
        "      - To provide user-friendly error messages\n",
        "      - To take alternate actions when an error happens"
      ],
      "metadata": {
        "id": "xXfOAImk6R9B"
      }
    },
    {
      "cell_type": "code",
      "source": [
        "# Basic Syntax:\n",
        "\n",
        "try:\n",
        "    # Code that may raise an exception\n",
        "    x = 10 / 0\n",
        "except ZeroDivisionError:\n",
        "    # Code that runs if an exception occurs\n",
        "    print(\"You can't divide by zero!\")\n"
      ],
      "metadata": {
        "colab": {
          "base_uri": "https://localhost:8080/"
        },
        "id": "pN8mxTTK5LnG",
        "outputId": "2315c570-96a2-4af8-c33f-c214aec30318"
      },
      "execution_count": null,
      "outputs": [
        {
          "output_type": "stream",
          "name": "stdout",
          "text": [
            "You can't divide by zero!\n"
          ]
        }
      ]
    },
    {
      "cell_type": "code",
      "source": [
        "# Example with else and finally:\n",
        "\n",
        "try:\n",
        "    num = int(input(\"Enter a number: \"))\n",
        "    result = 10 / num\n",
        "except ZeroDivisionError:\n",
        "    print(\"Error: Division by zero\")\n",
        "except ValueError:\n",
        "    print(\"Error: Invalid input\")\n",
        "else:\n",
        "    print(\"Result:\", result)\n",
        "finally:\n",
        "    print(\"Execution finished\")\n"
      ],
      "metadata": {
        "colab": {
          "base_uri": "https://localhost:8080/"
        },
        "id": "g1pbOjXS6rmP",
        "outputId": "7f92a757-f919-4d81-8930-e8631e048869"
      },
      "execution_count": null,
      "outputs": [
        {
          "output_type": "stream",
          "name": "stdout",
          "text": [
            "Enter a number: 2\n",
            "Result: 5.0\n",
            "Execution finished\n"
          ]
        }
      ]
    },
    {
      "cell_type": "markdown",
      "source": [
        "Custom Exception Example\n",
        "\n",
        "- You can also define your own exceptions:"
      ],
      "metadata": {
        "id": "bcFEn5iZ61tn"
      }
    },
    {
      "cell_type": "code",
      "source": [
        "class MyError(Exception):\n",
        "    pass\n",
        "\n",
        "try:\n",
        "    raise MyError(\"Something went wrong\")\n",
        "except MyError as e:\n",
        "    print(e)\n"
      ],
      "metadata": {
        "colab": {
          "base_uri": "https://localhost:8080/"
        },
        "id": "oGh5fkGs6yje",
        "outputId": "a81ed9a0-b76d-4a39-b1ef-5786758532a1"
      },
      "execution_count": null,
      "outputs": [
        {
          "output_type": "stream",
          "name": "stdout",
          "text": [
            "Something went wrong\n"
          ]
        }
      ]
    },
    {
      "cell_type": "markdown",
      "source": [
        "Q3. What is the purpose of the finally block in exception handling ?\n",
        "    - The finally block in exception handling is used to define a section of code that will always run, no matter what happens in the try and except blocks.\n",
        "\n",
        "    Purpose of finally:\n",
        "    - To guarantee execution of important cleanup code, such as:\n",
        "      - Closing files\n",
        "      - Releasing resources (like database connections or locks)\n",
        "      - Logging operations\n",
        "      - Releasing memory or resetting variables\n",
        "\n",
        "    Execution Flow:\n",
        "    - If no exception occurs → try runs, then finally.\n",
        "    - If an exception is handled → try runs, except runs, then finally.\n",
        "    - If an exception is not handled → try runs, exception occurs, finally still runs, then the exception is raised again.\n",
        "    "
      ],
      "metadata": {
        "id": "NNErAt2d7B39"
      }
    },
    {
      "cell_type": "code",
      "source": [
        "# Example:\n",
        "\n",
        "try:\n",
        "    f = open(\"data.txt\", \"r\")\n",
        "    data = f.read()\n",
        "except FileNotFoundError:\n",
        "    print(\"File not found.\")\n",
        "finally:\n",
        "    print(\"Closing file.\")\n",
        "    f.close()\n"
      ],
      "metadata": {
        "colab": {
          "base_uri": "https://localhost:8080/",
          "height": 211
        },
        "collapsed": true,
        "id": "JnF-TQk168_9",
        "outputId": "9b9b27a5-e4a9-46e3-9c8d-f5765d637088"
      },
      "execution_count": null,
      "outputs": [
        {
          "output_type": "stream",
          "name": "stdout",
          "text": [
            "File not found.\n",
            "Closing file.\n"
          ]
        },
        {
          "output_type": "error",
          "ename": "NameError",
          "evalue": "name 'f' is not defined",
          "traceback": [
            "\u001b[0;31m---------------------------------------------------------------------------\u001b[0m",
            "\u001b[0;31mNameError\u001b[0m                                 Traceback (most recent call last)",
            "\u001b[0;32m/tmp/ipython-input-7-1888911242.py\u001b[0m in \u001b[0;36m<cell line: 0>\u001b[0;34m()\u001b[0m\n\u001b[1;32m      8\u001b[0m \u001b[0;32mfinally\u001b[0m\u001b[0;34m:\u001b[0m\u001b[0;34m\u001b[0m\u001b[0;34m\u001b[0m\u001b[0m\n\u001b[1;32m      9\u001b[0m     \u001b[0mprint\u001b[0m\u001b[0;34m(\u001b[0m\u001b[0;34m\"Closing file.\"\u001b[0m\u001b[0;34m)\u001b[0m\u001b[0;34m\u001b[0m\u001b[0;34m\u001b[0m\u001b[0m\n\u001b[0;32m---> 10\u001b[0;31m     \u001b[0mf\u001b[0m\u001b[0;34m.\u001b[0m\u001b[0mclose\u001b[0m\u001b[0;34m(\u001b[0m\u001b[0;34m)\u001b[0m\u001b[0;34m\u001b[0m\u001b[0;34m\u001b[0m\u001b[0m\n\u001b[0m",
            "\u001b[0;31mNameError\u001b[0m: name 'f' is not defined"
          ]
        }
      ]
    },
    {
      "cell_type": "code",
      "source": [],
      "metadata": {
        "id": "TufBAZE47qE3"
      },
      "execution_count": null,
      "outputs": []
    },
    {
      "cell_type": "markdown",
      "source": [
        "- Even if the file is missing or an error occurs, the finally block will run and attempt to close the file.\n",
        "\n",
        "- In short:\n",
        "  - The finally block ensures cleanup code runs regardless of what happens in the try or except blocks."
      ],
      "metadata": {
        "id": "NWqmF8zn8Bb-"
      }
    },
    {
      "cell_type": "markdown",
      "source": [
        "Q4. What is logging in Python?\n",
        "\n",
        "    - Logging in Python is the process of tracking events that happen when your software runs. The logging module in Python provides a flexible framework for emitting log messages from Python programs. It's especially useful for debugging, monitoring, and error tracking in production environments.\n",
        "\n",
        "    Why Use Logging Instead of Print?\n",
        "    - print() is for simple output during development.\n",
        "    - logging lets you control the level, destination, and format of your messages.\n",
        "    - You can write logs to files, console, or even external systems.\n",
        "\n",
        "\n",
        "\n",
        "\n"
      ],
      "metadata": {
        "id": "DYktD7Dd8Ozt"
      }
    },
    {
      "cell_type": "code",
      "source": [
        "# Basic Example:\n",
        "\n",
        "import logging\n",
        "\n",
        "logging.basicConfig(level=logging.INFO)\n",
        "logging.info(\"This is an info message\")\n",
        "\n",
        "print(\"This is an info message\")\n"
      ],
      "metadata": {
        "id": "gO68QJ3L8Mi9"
      },
      "execution_count": null,
      "outputs": []
    },
    {
      "cell_type": "code",
      "source": [
        "# Example:\n",
        "\n",
        "logging.debug(\"Debugging info\")\n",
        "logging.warning(\"This is a warning\")\n",
        "logging.error(\"This is an error\")\n"
      ],
      "metadata": {
        "id": "XqtfkFxX8scH"
      },
      "execution_count": null,
      "outputs": []
    },
    {
      "cell_type": "code",
      "source": [
        "# Logging to a File:\n",
        "\n",
        "logging.basicConfig(\n",
        "    filename='app.log',\n",
        "    level=logging.DEBUG,\n",
        "    format='%(asctime)s - %(levelname)s - %(message)s'\n",
        ")\n"
      ],
      "metadata": {
        "id": "-P5f-9VT85jF"
      },
      "execution_count": null,
      "outputs": []
    },
    {
      "cell_type": "markdown",
      "source": [
        "Summary\n",
        "  - Use logging for real-time application tracking.\n",
        "  - Control level of importance (debug → critical).\n",
        "  - Logs can be sent to files, consoles, or remote servers.\n",
        "  -Helps in debugging, monitoring, and troubleshooting.\n",
        "\n"
      ],
      "metadata": {
        "id": "A9q2V7Ab92GW"
      }
    },
    {
      "cell_type": "markdown",
      "source": [
        "Q5. What is the significance of the __del__ method in Python ?\n",
        "\n",
        "    - The __del__ method in Python is a special method known as a destructor. It is called when an object is about to be destroyed, i.e., when there are no more references to the object and it's ready to be garbage collected.\n",
        "    "
      ],
      "metadata": {
        "id": "0KVd1Pn7-MTA"
      }
    },
    {
      "cell_type": "code",
      "source": [
        "# Syntax:\n",
        "\n",
        "class MyClass:\n",
        "    def __del__(self):\n",
        "        print(\"Destructor called, object deleted.\")\n"
      ],
      "metadata": {
        "id": "iO1PZ6Xe9xrd"
      },
      "execution_count": null,
      "outputs": []
    },
    {
      "cell_type": "markdown",
      "source": [
        "Significance of __del__:\n",
        "  \n",
        "  1) Cleanup Tasks: It allows you to define clean-up actions, such as:\n",
        "    - Closing files\n",
        "    - Releasing network connections\n",
        "    - Freeing resources\n",
        "\n",
        "  2) Finalization Logic: Acts as a finalizer method when the object’s lifecycle ends.\n",
        "  3) Logging: Helps in debugging or logging when an object is deleted.\n",
        "\n",
        "\n",
        "\n"
      ],
      "metadata": {
        "id": "Zx52YRz9-nR3"
      }
    },
    {
      "cell_type": "code",
      "source": [
        "# Example:\n",
        "\n",
        "class FileHandler:\n",
        "    def __init__(self, filename):\n",
        "        self.file = open(filename, 'w')\n",
        "        print(\"File opened\")\n",
        "\n",
        "    def __del__(self):\n",
        "        print(\"File closed\")\n",
        "        self.file.close()\n",
        "\n",
        "f = FileHandler(\"test.txt\")\n",
        "del f  # __del__ will be called here\n"
      ],
      "metadata": {
        "id": "a5CmK5dq-k29"
      },
      "execution_count": null,
      "outputs": []
    },
    {
      "cell_type": "markdown",
      "source": [
        "Important Notes:\n",
        "  - Not Guaranteed When It's Called: The __del__ method is not guaranteed to run immediately when an object goes out of scope. It depends on Python’s garbage collector.\n",
        "  - Circular References: If there's a circular reference (object A refers to B and B to A), the __del__ method might not get called.\n",
        "  - Exceptions in __del__: If an exception is raised in __del__, it’s ignored silently.\n",
        "\n",
        "\n",
        "Better Alternative\n",
        "  - In many cases, it’s better to use the with statement and context managers via the __enter__ and __exit__ methods:\n",
        "  "
      ],
      "metadata": {
        "id": "BOo30JVn_QH_"
      }
    },
    {
      "cell_type": "code",
      "source": [
        "with open(\"test.txt\", \"w\") as f:\n",
        "    f.write(\"Hello\")\n",
        "# File is automatically closed after block ends\n",
        "\n"
      ],
      "metadata": {
        "id": "Gn-WHChx_IQV"
      },
      "execution_count": null,
      "outputs": []
    },
    {
      "cell_type": "markdown",
      "source": [
        "Q6. What is the difference between import and from ... import in Python ?\n",
        "\n",
        "    - In Python, both import and from ... import are used to bring external modules or specific parts of modules into your program, but they work a bit differently.\n",
        "1) import Statement\n",
        "  - This imports the entire module.\n"
      ],
      "metadata": {
        "id": "clfF1Pxf_pu-"
      }
    },
    {
      "cell_type": "code",
      "source": [
        "\n",
        "\n",
        "import math\n",
        "print(math.sqrt(16))  # Access using module_name.function\n",
        "\n"
      ],
      "metadata": {
        "id": "VunEU-VG_lH3"
      },
      "execution_count": null,
      "outputs": []
    },
    {
      "cell_type": "markdown",
      "source": [
        "Key Point:\n",
        "- You must use the module name as a prefix when calling any function or variable from the module.\n",
        "- This keeps the namespace clean and avoids name conflicts.\n",
        "\n",
        "2) from ... import Statement\n",
        "  - This imports specific objects (functions, classes, variables) directly from the module.\n",
        "\n"
      ],
      "metadata": {
        "id": "KZV6OjGAAS6n"
      }
    },
    {
      "cell_type": "code",
      "source": [
        "# Example:\n",
        "\n",
        "from math import sqrt\n",
        "print(sqrt(16))  # No need to prefix with module name\n"
      ],
      "metadata": {
        "id": "YDvlF0lsAE1N"
      },
      "execution_count": null,
      "outputs": []
    },
    {
      "cell_type": "markdown",
      "source": [
        "Key Point:\n",
        "- It allows direct use of the imported name.\n",
        "- Can lead to name conflicts if the imported name is already defined in your script.\n",
        "\n",
        "\n",
        "\n",
        "\n"
      ],
      "metadata": {
        "id": "AZJkFju0Ap1I"
      }
    },
    {
      "cell_type": "markdown",
      "source": [
        "Q7. How can you handle multiple exceptions in Python ?\n",
        "\n",
        "    - In Python, you can handle multiple exceptions using one of the following ways:\n",
        "\n",
        "1) Multiple except Blocks\n",
        "  - You can catch different exceptions with separate except blocks:"
      ],
      "metadata": {
        "id": "YltjsfV-A4qe"
      }
    },
    {
      "cell_type": "code",
      "source": [
        "try:\n",
        "    # Code that might raise exceptions\n",
        "    x = int(input(\"Enter a number: \"))\n",
        "    y = 10 / x\n",
        "except ValueError:\n",
        "    print(\"Invalid input. Please enter a valid number.\")\n",
        "except ZeroDivisionError:\n",
        "    print(\"Cannot divide by zero.\")\n"
      ],
      "metadata": {
        "id": "PcMyhbGNAmuO"
      },
      "execution_count": null,
      "outputs": []
    },
    {
      "cell_type": "markdown",
      "source": [
        "2) Single except Block with Multiple Exceptions (Tuple)\n",
        "  - You can group exceptions into a tuple if they should be handled the same way:"
      ],
      "metadata": {
        "id": "7ipn94YGBOEm"
      }
    },
    {
      "cell_type": "code",
      "source": [
        "try:\n",
        "    x = int(input(\"Enter a number: \"))\n",
        "    y = 10 / x\n",
        "except (ValueError, ZeroDivisionError) as e:\n",
        "    print(f\"An error occurred: {e}\")\n"
      ],
      "metadata": {
        "id": "AlZZwLtOBLR1"
      },
      "execution_count": null,
      "outputs": []
    },
    {
      "cell_type": "markdown",
      "source": [
        "3) Catch-All using Exception\n",
        "  - To catch any exception (not recommended unless you also log/debug it):\n",
        "\n"
      ],
      "metadata": {
        "id": "wxQnU7tDBZht"
      }
    },
    {
      "cell_type": "code",
      "source": [
        "try:\n",
        "    # Risky code\n",
        "    x = int(input(\"Enter a number: \"))\n",
        "    y = 10 / x\n",
        "except Exception as e:\n",
        "    print(f\"Something went wrong: {e}\")\n"
      ],
      "metadata": {
        "id": "dgW5PukXBWKd"
      },
      "execution_count": null,
      "outputs": []
    },
    {
      "cell_type": "markdown",
      "source": [
        "- Only use this for debugging or logging. Don’t silently catch all exceptions unless necessary."
      ],
      "metadata": {
        "id": "-EcmxnVVBl5d"
      }
    },
    {
      "cell_type": "markdown",
      "source": [
        "4) Using finally (Optional)\n",
        "  - You can use finally to run cleanup code that should run no matter what:\n",
        "\n",
        "\n"
      ],
      "metadata": {
        "id": "30ekpKlhBpVq"
      }
    },
    {
      "cell_type": "code",
      "source": [
        "try:\n",
        "    with open(\"data.txt\", \"r\") as file:\n",
        "        content = file.read()\n",
        "except FileNotFoundError:\n",
        "    print(\"File not found.\")\n"
      ],
      "metadata": {
        "id": "inCGgrBWBiE0"
      },
      "execution_count": null,
      "outputs": []
    },
    {
      "cell_type": "markdown",
      "source": [
        "Q8. What is the purpose of the with statement when handling files in Python ?\n",
        "\n",
        "    - The with statement in Python is used when working with resources like files to ensure proper acquisition and release of resources. Its main purpose when handling files is to:\n",
        "\n",
        "1) Automatically manage file resources\n",
        "  - When you open a file using with, Python will:\n",
        "    - Open the file\n",
        "    - Execute your code block\n",
        "    - Automatically close the file, even if an error occurs during the block\n",
        "\n",
        "\n",
        "\n"
      ],
      "metadata": {
        "id": "i_MA3IHZDPQu"
      }
    },
    {
      "cell_type": "markdown",
      "source": [
        "Benefits:\n",
        "  - No need to explicitly call file.close()\n",
        "  - Cleaner and more readable code\n",
        "  - Prevents resource leaks or file corruption\n",
        "  - Better error handling\n",
        "\n",
        "Without with:\n",
        "\n",
        "\n",
        "\n"
      ],
      "metadata": {
        "id": "Z2Oo2TEeDxo1"
      }
    },
    {
      "cell_type": "code",
      "source": [
        "try:\n",
        "    file = open(\"example.txt\", \"r\")\n",
        "    try:\n",
        "        content = file.read()\n",
        "    finally:\n",
        "        file.close()\n",
        "except FileNotFoundError:\n",
        "    print(\"File not found.\")"
      ],
      "metadata": {
        "id": "JctspNUuDtwL"
      },
      "execution_count": null,
      "outputs": []
    },
    {
      "cell_type": "markdown",
      "source": [
        "The with statement simplifies this pattern.\n",
        "\n",
        "Summary:\n",
        "- The with statement ensures that a file is properly closed after its suite finishes execution — it's Python's recommended way to handle file I/O safely and cleanly.\n",
        "\n"
      ],
      "metadata": {
        "id": "mtnStrl7E8kO"
      }
    },
    {
      "cell_type": "markdown",
      "source": [
        "Q9. What is the difference between multithreading and multiprocessing ?\n",
        "\n",
        "    - The main difference between multithreading and multiprocessing lies in how they use system resources and handle concurrent tasks.\n",
        "\n",
        "Multithreading:\n",
        "  - Definition: Multiple threads (lightweight processes) run within the same process.\n",
        "  - Used For: Tasks that are I/O-bound (like file operations, network calls).\n",
        "  - Memory: Threads share the same memory space.\n",
        "  - Speed: Faster to create and switch between threads.\n",
        "  - Limitation: In CPython (Python's default interpreter), the Global Interpreter Lock (GIL) prevents true parallel execution of threads.\n",
        "\n",
        "Advantages:\n",
        "  - Low memory usage (shared memory).\n",
        "  - Faster context switching.\n",
        "\n",
        "Disadvantages:\n",
        "  - Not effective for CPU-bound tasks.\n",
        "  - Harder to debug due to shared state (race conditions).\n",
        "\n",
        "Multiprocessing\n",
        "  - Definition: Multiple processes run in parallel, each with its own memory space.\n",
        "  - Used For: Tasks that are CPU-bound (like calculations, data processing).\n",
        "  - Memory: Processes do not share memory.\n",
        "  - Speed: Slower to create processes and switch between them.\n",
        "\n",
        "Advantages:\n",
        "  - True parallelism on multi-core CPUs.\n",
        "  - Avoids GIL in Python.\n",
        "\n",
        "Disadvantages:\n",
        "  - Higher memory usage.\n",
        "  - Slower inter-process communication.\n",
        "\n",
        "\n",
        "\n"
      ],
      "metadata": {
        "id": "WV_b1RHQFIoG"
      }
    },
    {
      "cell_type": "markdown",
      "source": [
        "Q10. What are the advantages of using logging in a program ?\n",
        "\n",
        "    - Using logging in a program has several key advantages, especially as your codebase grows or when working in production environments. Here are the main benefits:\n",
        "    1) Debugging Support\n",
        "      - Logs help you understand the sequence of events leading to an error.\n",
        "      - They can show variable values, function calls, or error traces without interrupting program execution.\n",
        "    2)  Better than Print Statements\n",
        "      - print() is temporary and not ideal for large applications.\n",
        "      - logging supports different log levels (DEBUG, INFO, WARNING, ERROR, CRITICAL), making output more structured and meaningful.\n",
        "    3) Track Runtime Behavior\n",
        "      - You can monitor how the program behaves over time — especially useful in long-running applications like servers or services.\n",
        "    4) Persistent Logs\n",
        "      - Logs can be written to files, databases, or remote servers — so you can analyze them even after the program stops or crashes.\n",
        "    5) Helps in Production Monitoring\n",
        "      - Logs are crucial for monitoring live systems.\n",
        "      - DevOps and system admins use logs to detect and respond to issues quickly.\n",
        "    6) Configurable and Flexible\n",
        "      - You can control what to log, where to log, and how much detail to show, all without changing your code logic.\n",
        "      - Example: In development, log DEBUG; in production, log only ERROR.\n",
        "    7) Audit Trail\n",
        "      - Useful in security and compliance to track who did what and when.\n",
        "    8) Performance Optimization\n",
        "      - Logs can reveal performance bottlenecks or slowdowns by timing operations.\n",
        "\n",
        "\n",
        "\n",
        "\n",
        "\n"
      ],
      "metadata": {
        "id": "XQYr6qmLGhL3"
      }
    },
    {
      "cell_type": "code",
      "source": [
        "# Example:\n",
        "\n",
        "import logging\n",
        "\n",
        "logging.basicConfig(level=logging.INFO)\n",
        "logging.info(\"Starting the program\")\n",
        "logging.debug(\"This is a debug message\")\n",
        "logging.error(\"An error occurred\")\n"
      ],
      "metadata": {
        "id": "BAcPYCy6EIEs"
      },
      "execution_count": null,
      "outputs": []
    },
    {
      "cell_type": "markdown",
      "source": [
        "Q11. What is memory management in Python ?\n",
        "\n",
        "    - Memory management in Python is the process of allocating, using, and freeing memory efficiently during the execution of a Python program. Python handles memory management automatically, but it's important to understand how it works under the hood to write better and more efficient code.\n",
        "\n",
        "    Key Concepts in Python Memory Management:\n",
        "      1) Automatic Memory Management\n",
        "         Python manages memory allocation and deallocation automatically using:\n",
        "          - Reference counting\n",
        "          - Garbage collection\n",
        "      2) Reference Counting\n",
        "         Every object in Python has a reference count — a count of how many references (variables, containers, etc.) point to it.\n",
        "          - When the reference count drops to zero, the memory is automatically released.\n",
        "\n"
      ],
      "metadata": {
        "id": "TrEUxOg5IFwX"
      }
    },
    {
      "cell_type": "code",
      "source": [
        "a = [1, 2, 3]\n",
        "b = a  # ref count increases\n",
        "del a  # ref count decreases\n",
        "del b  # now ref count is 0, object is destroyed\n"
      ],
      "metadata": {
        "id": "PI1Dv9QHIAbF"
      },
      "execution_count": null,
      "outputs": []
    },
    {
      "cell_type": "markdown",
      "source": [
        "  3) Garbage Collector\n",
        "      - Python also has a garbage collector for detecting and cleaning up circular references (where objects refer to each other)\n",
        "      - It uses the gc module, which can be triggered manually or runs automatically.\n",
        "      "
      ],
      "metadata": {
        "id": "MB-OUQerIxMP"
      }
    },
    {
      "cell_type": "code",
      "source": [
        "import gc\n",
        "gc.collect()  # Manually triggers garbage collection\n"
      ],
      "metadata": {
        "id": "2aPXCNMYIs6t"
      },
      "execution_count": null,
      "outputs": []
    },
    {
      "cell_type": "markdown",
      "source": [
        "  4) Memory Pools (via PyMalloc)\n",
        "    Python uses an internal memory manager called PyMalloc, which:\n",
        "      - Organizes memory into pools to improve allocation efficiency.\n",
        "      - Helps reduce fragmentation.\n",
        "  5) Dynamic Typing and Heap Allocation\n",
        "    - All Python variables are references to objects stored in the heap memory.\n",
        "    - The heap is managed dynamically and resized as needed."
      ],
      "metadata": {
        "id": "o3r26jhaJAGe"
      }
    },
    {
      "cell_type": "markdown",
      "source": [
        "Q12. What are the basic steps involved in exception handling in Python ?\n",
        "\n",
        "    - In Python, exception handling allows you to manage errors gracefully without crashing your program. The basic steps involved are:\n",
        "    1) Try Block\n",
        "      - Write the code that might raise an exception inside a try block."
      ],
      "metadata": {
        "id": "HJr_TtYWJe8n"
      }
    },
    {
      "cell_type": "code",
      "source": [
        "try:\n",
        "    # risky code\n",
        "    result = 10 / 0\n",
        "except ZeroDivisionError:\n",
        "  print(\"cannot divide by zero.\")\n"
      ],
      "metadata": {
        "id": "peuuUhKbI87U"
      },
      "execution_count": null,
      "outputs": []
    },
    {
      "cell_type": "markdown",
      "source": [
        "2) Except Block\n",
        "  - Catch and handle specific exceptions using one or more except blocks."
      ],
      "metadata": {
        "id": "pKsMYy_PKN9u"
      }
    },
    {
      "cell_type": "code",
      "source": [
        "try:\n",
        "  result = 10 / 0\n",
        "except ZeroDivisionError:\n",
        "  print(\"Cannot divide by zero.\")\n",
        "\n",
        "\n"
      ],
      "metadata": {
        "id": "1FxET4fHJwrO"
      },
      "execution_count": null,
      "outputs": []
    },
    {
      "cell_type": "markdown",
      "source": [
        "3) Else Block (Optional)\n",
        "  - Runs only if no exception occurred in the try block."
      ],
      "metadata": {
        "id": "AeKyTHtrKz_F"
      }
    },
    {
      "cell_type": "code",
      "source": [
        "try:\n",
        "    result = 10 / 2\n",
        "except ZeroDivisionError:\n",
        "    print(\"Cannot divide by zero.\")\n",
        "else:\n",
        "    print(\"No error, result is:\", result)\n"
      ],
      "metadata": {
        "id": "6BJKv12_KUbF"
      },
      "execution_count": null,
      "outputs": []
    },
    {
      "cell_type": "markdown",
      "source": [
        "4) Finally Block (Optional)\n",
        "  - This block always runs, whether an exception occurred or not — useful for cleanup tasks."
      ],
      "metadata": {
        "id": "W8wIlEbbLYAV"
      }
    },
    {
      "cell_type": "code",
      "source": [
        "try:\n",
        "    result = 10 / 2\n",
        "except ZeroDivisionError:\n",
        "    print(\"Cannot divide by zero.\")\n",
        "finally:\n",
        "    print(\"Execution completed.\")\n"
      ],
      "metadata": {
        "id": "6V-edb5CLEK2"
      },
      "execution_count": null,
      "outputs": []
    },
    {
      "cell_type": "code",
      "source": [
        "# Full Example:\n",
        "\n",
        "try:\n",
        "    num = int(input(\"Enter a number: \"))\n",
        "    result = 10 / num\n",
        "except ZeroDivisionError:\n",
        "    print(\"You can't divide by zero!\")\n",
        "except ValueError:\n",
        "    print(\"Please enter a valid number.\")\n",
        "else:\n",
        "    print(\"Result is:\", result)\n",
        "finally:\n",
        "    print(\"Program ended.\")\n"
      ],
      "metadata": {
        "id": "r_V8ueS-LkJN"
      },
      "execution_count": null,
      "outputs": []
    },
    {
      "cell_type": "markdown",
      "source": [
        "Q13. Why is memory management important in Python ?\n",
        "\n",
        "    - Memory management is important in Python for several key reasons:\n",
        "    1) Efficient Use of Resources\n",
        "       Python programs run on devices with limited memory. Efficient memory management ensures that:\n",
        "        - Memory is not wasted.\n",
        "        - Your program runs faster and consumes fewer resources.\n",
        "    2) Automatic Garbage Collection\n",
        "       Python uses automatic garbage collection, which reclaims memory from objects no longer in use. This prevents:\n",
        "        - Memory leaks (when memory is not released after use).\n",
        "        - Program crashes due to memory overflow.\n",
        "    3) Improved Performance\n",
        "       When memory is managed well:\n",
        "       - Programs execute faster.\n",
        "       - There’s less CPU overhead from frequent allocation and deallocation.\n",
        "    4) Security & Stability\n",
        "       Proper memory management reduces:\n",
        "        - The risk of bugs related to memory.\n",
        "        - Unexpected behavior due to memory corruption or overflow.\n",
        "    5)  Scalability\n",
        "        As your application grows, poor memory usage can become a major bottleneck. Good memory practices ensure:\n",
        "        - Scalability without degradation in performance\n",
        "\n",
        "    How Python Manages Memory Internally:\n",
        "    - Reference Counting: Every object has a count of references; when it drops to zero, it’s deleted.\n",
        "    - Garbage Collector: Handles cyclic references (objects referring to each other).\n",
        "    - Private Heap Space: All Python objects and data structures are stored in a private heap.\n",
        "    - Memory Pools (via pymalloc): Python pre-allocates memory in chunks to reduce system calls."
      ],
      "metadata": {
        "id": "l6d9RfI9L-pf"
      }
    },
    {
      "cell_type": "markdown",
      "source": [
        "Q14. What is the role of try and except in exception handling ?\n",
        "\n",
        "    - The try and except blocks in Python are used for exception handling — a way to gracefully handle errors that may occur during the execution of a program, without crashing it.\n",
        "    Role of try\n",
        "      - The try block contains code that might raise an exception. Python will attempt to run this code normally.\n",
        "    Role of except\n",
        "      - The except block contains code that runs if an exception occurs in the try block. It allows you to handle the error in a controlled way.\n",
        "      "
      ],
      "metadata": {
        "id": "i7Y9VoKuNVwO"
      }
    },
    {
      "cell_type": "code",
      "source": [
        "# Example:\n",
        "\n",
        "try:\n",
        "    num = int(input(\"Enter a number: \"))\n",
        "    result = 10 / num\n",
        "    print(\"Result:\", result)\n",
        "except ZeroDivisionError:\n",
        "    print(\"You can't divide by zero.\")\n",
        "except ValueError:\n",
        "    print(\"Invalid input. Please enter a number.\")\n"
      ],
      "metadata": {
        "id": "uNV_X461L6Al"
      },
      "execution_count": null,
      "outputs": []
    },
    {
      "cell_type": "markdown",
      "source": [
        "Explanation:\n",
        "  - If the user enters 0, a ZeroDivisionError occurs, and the message is shown.\n",
        "  - If the user enters a string like \"abc\", a ValueError occurs, and a different message is shown.\n",
        "  - If no exception occurs, it simply prints the result."
      ],
      "metadata": {
        "id": "8CVVo-rmN3pF"
      }
    },
    {
      "cell_type": "markdown",
      "source": [],
      "metadata": {
        "id": "Ta73M-TeOmZX"
      }
    },
    {
      "cell_type": "markdown",
      "source": [
        "Q15. How does Python's garbage collection system work ?\n",
        "\n",
        "    - Python's garbage collection (GC) system is responsible for automatically managing memory — specifically, freeing up memory that is no longer needed so your program doesn't use more than necessary.\n",
        "    Key Components of Python's Garbage Collection:\n",
        "      1) Reference Counting\n",
        "        - Every object in Python has an internal reference count, i.e., the number of references pointing to it.\n",
        "        - When an object’s reference count drops to zero, it is immediately destroyed and memory is freed."
      ],
      "metadata": {
        "id": "lUJqpMsMOBc_"
      }
    },
    {
      "cell_type": "code",
      "source": [
        "import sys\n",
        "a = []\n",
        "print(sys.getrefcount(a))  # Shows the reference count for the object 'a'\n"
      ],
      "metadata": {
        "id": "p8wMv7InN0cV"
      },
      "execution_count": null,
      "outputs": []
    },
    {
      "cell_type": "markdown",
      "source": [
        "  2) Garbage Collector (Cycle Detector)\n",
        "     \n",
        "      - Reference counting works well most of the time, but it fails when there are circular references (e.g., two objects referencing each other).\n",
        "    To handle this, Python’s gc module implements a cyclic garbage collector:\n",
        "      - It periodically looks for groups of objects that reference each other but are not reachable from the main program.\n",
        "      - If found, they are deleted, breaking the cycle.\n",
        "\n",
        "  3) Generational Collection\n",
        "    \n",
        "    Python uses a generational approach to improve performance:\n",
        "      - Three generations (0, 1, 2):\n",
        "        - New objects are in generation 0.\n",
        "        - If they survive a collection, they are promoted to generation 1, and so on.\n",
        "      - GC frequency: Younger generations are collected more often because most objects die young.\n",
        "      "
      ],
      "metadata": {
        "id": "vkOoNwYmO2ft"
      }
    },
    {
      "cell_type": "code",
      "source": [
        "import gc\n",
        "gc.collect()  # Manually trigger garbage collection\n"
      ],
      "metadata": {
        "id": "CoRY_cwpOyv9"
      },
      "execution_count": null,
      "outputs": []
    },
    {
      "cell_type": "markdown",
      "source": [
        "How It Works Together\n",
        "  - Create object ➝ reference count starts at 1.\n",
        "  - Use object ➝ reference count increases/decreases with assignments.\n",
        "  - If reference count = 0 ➝ object is destroyed.\n",
        "  - If circular references exist ➝ gc module detects and cleans them.\n",
        "  "
      ],
      "metadata": {
        "id": "QTMzDs6xP07m"
      }
    },
    {
      "cell_type": "markdown",
      "source": [
        "Q16.  What is the purpose of the else block in exception handling ?\n",
        "\n",
        "    - In Python's exception handling, the else block is optional and is used to define code that should run only if no exception occurs in the try block.\n",
        "    "
      ],
      "metadata": {
        "id": "8AuTqqK8QDm_"
      }
    },
    {
      "cell_type": "markdown",
      "source": [
        "Purpose of the else block:\n",
        "  - To separate error-prone code (in try) from code that should only run if everything goes well.\n",
        "  - Improves readability by keeping the non-exceptional path distinct.\n",
        "  "
      ],
      "metadata": {
        "id": "zUVlne7eRJlX"
      }
    },
    {
      "cell_type": "code",
      "source": [
        "# Example:\n",
        "\n",
        "try:\n",
        "    result = 10 / 2\n",
        "except ZeroDivisionError:\n",
        "    print(\"Division by zero error!\")\n",
        "else:\n",
        "    print(\"Division successful, result:\", result)\n"
      ],
      "metadata": {
        "id": "BSM5lWmSREzt"
      },
      "execution_count": null,
      "outputs": []
    },
    {
      "cell_type": "markdown",
      "source": [
        "Q17. What are the common logging levels in Python ?\n",
        "\n",
        "    - DEBUG(10): Detailed information for diagnosing problems. Typically used during development.\n",
        "    - INFO(20): General information confirming that things are working as expected.\n",
        "    - WARNING(30): Indicates a potential issue or something unexpected, but the program is still running.\n",
        "    - ERROR(40): A more serious issue — the program couldn't perform a specific operation.\n",
        "    - CRITICAL(50): A severe error — the program may not be able to continue running.\n",
        "    "
      ],
      "metadata": {
        "id": "KehEXxQ8RcRu"
      }
    },
    {
      "cell_type": "code",
      "source": [
        "# Example code:\n",
        "\n",
        "import logging\n",
        "\n",
        "logging.basicConfig(level=logging.DEBUG)\n",
        "\n",
        "logging.debug(\"This is a debug message.\")\n",
        "logging.info(\"This is an info message.\")\n",
        "logging.warning(\"This is a warning message.\")\n",
        "logging.error(\"This is an error message.\")\n",
        "logging.critical(\"This is a critical message.\")\n"
      ],
      "metadata": {
        "id": "Dx5xkdOwRUcy"
      },
      "execution_count": null,
      "outputs": []
    },
    {
      "cell_type": "markdown",
      "source": [
        "Q18. What is the difference between os.fork() and multiprocessing in Python ?\n",
        "\n",
        "    - In Python, os.fork() and the multiprocessing module are both used to create new processes, but they differ significantly in abstraction level, portability, and use cases.\n",
        "    1) os.fork()\n",
        "      - Low-level system call.\n",
        "      - Only available on Unix-based systems (Linux, macOS).\n",
        "      - Creates a child process by duplicating the current process.\n",
        "      Pros:\n",
        "        - Very lightweight and fast.\n",
        "        - Gives direct access to process control.\n",
        "        - Useful when you want fine-grained control.\n",
        "       Cons:\n",
        "        - Not cross-platform (doesn’t work on Windows).\n",
        "        - No built-in inter-process communication (IPC) — you must handle everything manually (pipes, shared memory, etc.).\n",
        "        - Risk of bugs like resource duplication, race conditions, etc.\n",
        "        \n",
        "\n",
        "    "
      ],
      "metadata": {
        "id": "MUuLXiqDTJP2"
      }
    },
    {
      "cell_type": "code",
      "source": [
        "# Example:\n",
        "\n",
        "import os\n",
        "\n",
        "pid = os.fork()\n",
        "\n",
        "if pid == 0:\n",
        "    print(\"Child process\")\n",
        "else:\n",
        "    print(\"Parent process\")\n"
      ],
      "metadata": {
        "id": "Iz0YvEaPTGcM"
      },
      "execution_count": null,
      "outputs": []
    },
    {
      "cell_type": "markdown",
      "source": [
        "  2) multiprocessing Module\n",
        "    \n",
        "    - High-level API.\n",
        "    - Cross-platform (works on Linux, Windows, macOS).\n",
        "    - Designed to be a threading alternative using processes (to bypass GIL).\n",
        "    - Provides IPC tools: Queue, Pipe, Value, Array, etc.\n",
        "    Pros:\n",
        "      - Easier and safer than using os.fork() directly.\n",
        "      - Works on all platforms, including Windows.\n",
        "      - Built-in support for process pools, queues, and synchronization.\n",
        "      - Avoids the Global Interpreter Lock (GIL), making it good for CPU-bound tasks.\n",
        "    Cons:\n",
        "      - Slightly more overhead than os.fork() because it abstracts more.\n",
        "      \n"
      ],
      "metadata": {
        "id": "QnuMLxgXUFEB"
      }
    },
    {
      "cell_type": "code",
      "source": [
        "# Example:\n",
        "\n",
        "from multiprocessing import Process\n",
        "\n",
        "def worker():\n",
        "    print(\"Child process\")\n",
        "\n",
        "p = Process(target=worker)\n",
        "p.start()\n",
        "p.join()\n"
      ],
      "metadata": {
        "id": "fNRD-2i7UBG0"
      },
      "execution_count": null,
      "outputs": []
    },
    {
      "cell_type": "markdown",
      "source": [
        "Q19. What is the importance of closing a file in Python ?\n",
        "\n",
        "    - Closing a file in Python is very important for several reasons. Here’s a clear explanation of why:\n",
        "    1) Resource Management\n",
        "      - Every open file uses system resources (memory, file handles).\n",
        "      - If you don’t close files, your program may consume too many resources, which can lead to performance issues or even system errors (e.g., \"Too many open files\").\n",
        "    2) Data Integrity\n",
        "      - When you write to a file, Python often uses a buffer (temporary memory storage).\n",
        "      - Closing the file ensures that all data is written (flushed) from the buffer to the file\n",
        "      - If you don’t close the file, some data might be lost or corrupted.\n",
        "    3) File Locks and Access Issues\n",
        "      - Some operating systems lock a file while it's open.\n",
        "      - If you don’t close it properly, other programs or processes may not be able to access it.\n",
        "    4) Preventing Errors and Bugs\n",
        "      - Not closing files can lead to unexpected behavior in your program, especially when working with many files or large data.\n",
        "\n",
        "\n",
        "Best Practice: Use with Statement\n",
        "\n",
        "- Python provides a safe way to handle files using the with statement:"
      ],
      "metadata": {
        "id": "CVYcW4xfVNJT"
      }
    },
    {
      "cell_type": "code",
      "source": [
        "with open(\"example.txt\", \"r\") as file:\n",
        "    content = file.read()\n",
        "# File is automatically closed here\n"
      ],
      "metadata": {
        "id": "BPKmJX0rVCZs"
      },
      "execution_count": null,
      "outputs": []
    },
    {
      "cell_type": "markdown",
      "source": [
        "Using with ensures that the file is automatically closed, even if an error occurs inside the block."
      ],
      "metadata": {
        "id": "lGA-hM9SWjRK"
      }
    },
    {
      "cell_type": "markdown",
      "source": [
        "Q20. What is the difference between file.read() and file.readline() in Python ?\n",
        "\n",
        "    - In Python, file.read() and file.readline() are both used to read data from a file, but they behave differently:\n",
        "    file.read()\n",
        "      - Reads the entire file (or a specified number of bytes) as a single string.\n",
        "      - Useful when you want to process the whole content at once.\n",
        "      "
      ],
      "metadata": {
        "id": "cuT-HLBYX9J6"
      }
    },
    {
      "cell_type": "code",
      "source": [
        "# Example:\n",
        "\n",
        "with open(\"example.txt\", \"r\") as file:\n",
        "    content = file.read()\n",
        "    print(content)\n"
      ],
      "metadata": {
        "id": "XcRTlFDWWZ81"
      },
      "execution_count": null,
      "outputs": []
    },
    {
      "cell_type": "markdown",
      "source": [
        "If you do file.read(10), it reads only the first 10 characters.\n",
        "\n",
        "file.readline()\n",
        "  - Reads one line at a time from the file.\n",
        "  - Useful when processing a file line-by-line (especially large files).\n",
        "  "
      ],
      "metadata": {
        "id": "R-UuWbTUYcDi"
      }
    },
    {
      "cell_type": "code",
      "source": [
        "# Example:\n",
        "\n",
        "with open(\"example.txt\", \"r\") as file:\n",
        "    line1 = file.readline()\n",
        "    print(line1)\n",
        "    line2 = file.readline()\n",
        "    print(line2)\n"
      ],
      "metadata": {
        "id": "OFhrSFg6YX6H"
      },
      "execution_count": null,
      "outputs": []
    },
    {
      "cell_type": "markdown",
      "source": [
        "Each call to readline() gets the next line, including the newline character (\\n) at the end unless it's the last line."
      ],
      "metadata": {
        "id": "nTOsPnixYw9W"
      }
    },
    {
      "cell_type": "markdown",
      "source": [
        "Q21. What is the logging module in Python used for ?\n",
        "\n",
        "    - The logging module in Python is used to record messages (logs) that describe events occurring while a program runs. It’s a built-in way to track the flow of a program, debug issues, and monitor behavior in production systems.\n",
        "    Key Uses of logging:\n",
        "      1) Debugging: Track what your program is doing step-by-step.\n",
        "      2) Error reporting: Record warnings, errors, and critical failures.\n",
        "      3) Monitoring: Keep logs of system behavior for analysis.\n",
        "      4) Audit trails: Record actions like user login, data changes, etc.\n",
        "\n",
        "\n",
        "\n",
        "\n",
        "    \n"
      ],
      "metadata": {
        "id": "iDCvUlTqcWtn"
      }
    },
    {
      "cell_type": "code",
      "source": [
        "# Basic Example:\n",
        "\n",
        "import logging\n",
        "\n",
        "logging.basicConfig(level=logging.INFO)\n",
        "logging.info(\"Program started\")\n",
        "logging.warning(\"This is a warning\")\n",
        "logging.error(\"Something went wrong!\")\n"
      ],
      "metadata": {
        "id": "2KvEdpiRYue1",
        "colab": {
          "base_uri": "https://localhost:8080/"
        },
        "outputId": "79e61c84-19c9-448e-e603-75012b929f6b"
      },
      "execution_count": 9,
      "outputs": [
        {
          "output_type": "stream",
          "name": "stderr",
          "text": [
            "WARNING:root:This is a warning\n",
            "ERROR:root:Something went wrong!\n"
          ]
        }
      ]
    },
    {
      "cell_type": "markdown",
      "source": [
        "Log Levels:\n",
        "   \n",
        "   Each message has a severity level:\n",
        "    - DEBUG: Detailed information, useful for diagnosing problems.\n",
        "    - INFO: General events like program start, end, or routine operations.\n",
        "    - WARNING: Something unexpected happened, but the program is still running.\n",
        "    - ERROR: A serious problem, part of the program didn’t run as expected.\n",
        "    - CRITICAL: A severe error that likely crashes the program.\n",
        "\n",
        "\n"
      ],
      "metadata": {
        "id": "55PQFCIiiacq"
      }
    },
    {
      "cell_type": "markdown",
      "source": [
        "Q22. What is the os module in Python used for in file handling ?\n",
        "\n",
        "    - The os module in Python is a standard library module that provides a way to interact with the operating system. In the context of file handling, the os module is used to perform operations on files and directories such as creating, deleting, renaming, and navigating file paths.\n",
        "\n",
        "    Key Uses of os Module in File Handling:\n",
        "    1) Directory Operations:\n",
        "      - os.mkdir(path) – Creates a new directory.\n",
        "      - os.makedirs(path) – Creates intermediate directories as required.\n",
        "      - os.rmdir(path) – Removes a directory.\n",
        "      - os.removedirs(path) – Removes directories recursively.\n",
        "    2) File Operations:\n",
        "      - os.remove(file) – Deletes a file.\n",
        "      - os.rename(src, dst) – Renames a file or directory.\n",
        "    3) Path Operations:\n",
        "      - os.path.exists(path) – Checks if a file or directory exists.\n",
        "      - os.path.isfile(path) – Checks if the path is a file.\n",
        "      - os.path.isdir(path) – Checks if the path is a directory.\n",
        "      os.path.join(path1, path2) – Joins one or more path components correctly.\n",
        "      - os.path.getsize(path) – Returns the size of a file.\n",
        "    4) Working Directory:\n",
        "      - os.getcwd() – Returns the current working directory.\n",
        "      - os.chdir(path) – Changes the current working directory.\n"
      ],
      "metadata": {
        "id": "X6dhkCSHeFmd"
      }
    },
    {
      "cell_type": "markdown",
      "source": [
        "Q23. What are the challenges associated with memory management in Python ?\n",
        "\n",
        "    - Here is a theoretical explanation of the challenges associated with memory management in Python:\n",
        "    Challenges Associated with Memory Management in Python\n",
        "      Memory management in Python is mostly automated through built-in mechanisms like reference counting and garbage collection. However, several challenges still exist:\n",
        "      1) Reference Cycles\n",
        "        - Python uses reference counting to track memory usage. But, when two or more objects reference each other (a circular reference), the reference count never reaches zero.\n",
        "        - This can lead to memory leaks, as the garbage collector may not always identify and clean these cycles promptly.\n",
        "      2) Memory Leaks\n",
        "        - Poor programming practices (like storing unused objects in global variables or data structures) can lead to memory that is never freed.\n",
        "        - Even though Python has garbage collection, logical memory leaks can still occur if objects are unintentionally kept alive.\n",
        "      3) Garbage Collection Overhead\n",
        "        - The garbage collector introduces overhead when scanning and collecting unreachable objects, especially in large applications.\n",
        "        - It can cause performance lags, particularly during automatic or forced collections.\n",
        "      4) Fragmentation\n",
        "        - Python memory management, especially with CPython, can suffer from heap fragmentation, where memory is available but not contiguous.\n",
        "        - This reduces performance and may increase memory usage unnecessarily.\n",
        "      5) Global Interpreter Lock (GIL) Limitations\n",
        "        - The GIL prevents multiple native threads from executing Python bytecode simultaneously.\n",
        "        - This can make memory management in multithreaded programs inefficient, as threads may compete for memory access.\n",
        "      6) Non-Deterministic Deallocation\n",
        "        - Unlike C/C++, Python does not guarantee immediate deallocation of objects once they go out of scope.\n",
        "        - This can lead to unpredictable memory usage patterns, especially in long-running programs.\n",
        "      7) Incompatibility with External Libraries\n",
        "        - Libraries written in C/C++ may not follow Python’s memory management rules.\n",
        "        - Improper handling of memory in such extensions can cause crashes or memory leaks.\n",
        "      8) High-Level Abstractions\n",
        "        - Python's dynamic typing and high-level abstractions (like lists, dictionaries, and classes) can use more memory than expected.\n",
        "        - Developers often lack control over low-level memory management."
      ],
      "metadata": {
        "id": "KbL0wREukwVa"
      }
    },
    {
      "cell_type": "markdown",
      "source": [
        "Q24.  How do you raise an exception manually in Python ?\n",
        "\n",
        "    - To raise an exception manually in Python, you use the raise statement. This allows you to trigger an exception intentionally in your code, often to signal that an error condition or invalid situation has occurred.\n",
        "    Explanation:\n",
        "    - raise is the keyword used to raise the exception.\n",
        "    - ExceptionType is the type of exception you want to raise (e.g., ValueError, TypeError, RuntimeError, or a custom exception)\n",
        "    - An optional error message can be passed to describe the reason for the exception.\n",
        "    "
      ],
      "metadata": {
        "id": "BITriJF7mXzz"
      }
    },
    {
      "cell_type": "code",
      "source": [
        "# Example:\n",
        "\n",
        "age = -5\n",
        "if age < 0:\n",
        "    raise ValueError(\"Age cannot be negative\")\n"
      ],
      "metadata": {
        "colab": {
          "base_uri": "https://localhost:8080/",
          "height": 176
        },
        "collapsed": true,
        "id": "sfmVUv-dm_JD",
        "outputId": "65066ac7-7b1d-41a3-fe02-b68889022e30"
      },
      "execution_count": 10,
      "outputs": [
        {
          "output_type": "error",
          "ename": "ValueError",
          "evalue": "Age cannot be negative",
          "traceback": [
            "\u001b[0;31m---------------------------------------------------------------------------\u001b[0m",
            "\u001b[0;31mValueError\u001b[0m                                Traceback (most recent call last)",
            "\u001b[0;32m/tmp/ipython-input-10-2968091516.py\u001b[0m in \u001b[0;36m<cell line: 0>\u001b[0;34m()\u001b[0m\n\u001b[1;32m      3\u001b[0m \u001b[0mage\u001b[0m \u001b[0;34m=\u001b[0m \u001b[0;34m-\u001b[0m\u001b[0;36m5\u001b[0m\u001b[0;34m\u001b[0m\u001b[0;34m\u001b[0m\u001b[0m\n\u001b[1;32m      4\u001b[0m \u001b[0;32mif\u001b[0m \u001b[0mage\u001b[0m \u001b[0;34m<\u001b[0m \u001b[0;36m0\u001b[0m\u001b[0;34m:\u001b[0m\u001b[0;34m\u001b[0m\u001b[0;34m\u001b[0m\u001b[0m\n\u001b[0;32m----> 5\u001b[0;31m     \u001b[0;32mraise\u001b[0m \u001b[0mValueError\u001b[0m\u001b[0;34m(\u001b[0m\u001b[0;34m\"Age cannot be negative\"\u001b[0m\u001b[0;34m)\u001b[0m\u001b[0;34m\u001b[0m\u001b[0;34m\u001b[0m\u001b[0m\n\u001b[0m",
            "\u001b[0;31mValueError\u001b[0m: Age cannot be negative"
          ]
        }
      ]
    },
    {
      "cell_type": "markdown",
      "source": [
        "Use Case:\n",
        "\n",
        "Manual exception raising is used for:\n",
        "  - Validating input\n",
        "  - Handling special conditions\n",
        "  - Debugging\n",
        "  - Enforcing constraints in functions and classes\n",
        "\n",
        "\n"
      ],
      "metadata": {
        "id": "02x6qD2pnKHT"
      }
    },
    {
      "cell_type": "markdown",
      "source": [
        "Q25. Why is it important to use multithreading in certain applications ?\n",
        "\n",
        "    - Multithreading is important in certain applications because it allows programs to perform multiple operations concurrently, improving performance, responsiveness, and resource utilization. Here’s a breakdown of why and where multithreading is useful:\n",
        "    1) Improved Performance (Parallelism)\n",
        "      Multithreading allows a program to take advantage of multiple CPU cores. If tasks can run in parallel (like processing multiple files or data streams), multithreading speeds things up significantly.\n",
        "      Example: A video editing software can encode multiple parts of a video simultaneously.\n",
        "    2) Better Responsiveness\n",
        "      In applications with a user interface, multithreading keeps the UI responsive while background tasks (like file downloads or data processing) run on separate threads.\n",
        "      Example: A web browser uses a separate thread to render the UI so it doesn't freeze while loading large pages.\n",
        "    3) Efficient Resource Use\n",
        "      Multithreading helps efficiently utilize idle time (like waiting for I/O operations) by allowing another thread to run in the meantime.\n",
        "      Example: A server handles multiple client requests simultaneously using threads while waiting for database responses.\n",
        "    4) Real-Time Processing\n",
        "      Applications that handle real-time data (audio, video, sensors) need multithreading to process incoming data without delay or interruption.\n",
        "      Example: A surveillance system records video while also detecting motion and storing metadata—all done in parallel threads.\n",
        "    5) Simplifies Program Structure for Concurrent Tasks\n",
        "      Instead of writing complex logic to switch between tasks, developers can use threads to separate logic more cleanly.\n",
        "      Example: In a game engine, different threads can handle graphics, sound, input, and physics separately.\n",
        "      \n",
        "\n"
      ],
      "metadata": {
        "id": "jefeCBWgnhQT"
      }
    },
    {
      "cell_type": "code",
      "source": [],
      "metadata": {
        "id": "YxI6380QnB2d"
      },
      "execution_count": null,
      "outputs": []
    }
  ]
}